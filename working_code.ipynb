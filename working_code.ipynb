{
 "cells": [
  {
   "cell_type": "code",
   "execution_count": 1,
   "id": "2457bb99-77a7-4a63-8f35-980bb9d6a475",
   "metadata": {},
   "outputs": [],
   "source": [
    "import requests\n",
    "import json\n",
    "from pprint import pprint\n",
    "import pandas as pd\n",
    "import time\n",
    "import numpy as np\n",
    "from sklearn.preprocessing import StandardScaler\n",
    "from sklearn.metrics.pairwise import cosine_similarity\n",
    "\n",
    "#import spotify keys\n",
    "from config import client_id\n",
    "from config import client_secret"
   ]
  },
  {
   "cell_type": "markdown",
   "id": "604f38e0-f8d7-44ab-9d58-c3a35a12d221",
   "metadata": {},
   "source": [
    "# Creating Access Token for Spotify API"
   ]
  },
  {
   "cell_type": "code",
   "execution_count": 2,
   "id": "fc5af043-073e-417b-be15-70f420b3cea5",
   "metadata": {},
   "outputs": [],
   "source": [
    "def createToken():\n",
    "    #generate access token for spotify api\n",
    "    #from: https://stmorse.github.io/journal/spotify-api.html\n",
    "\n",
    "    AUTH_URL = 'https://accounts.spotify.com/api/token'\n",
    "\n",
    "    # POST\n",
    "    auth_response = requests.post(AUTH_URL, {\n",
    "        'grant_type': 'client_credentials',\n",
    "        'client_id': client_id,\n",
    "        'client_secret': client_secret,\n",
    "    })\n",
    "\n",
    "    # convert the response to JSON\n",
    "    auth_response_data = auth_response.json()\n",
    "\n",
    "    # save the access token\n",
    "    access_token = auth_response_data['access_token']\n",
    "\n",
    "    #In order to access, we send a properly formed GET request to the API server, with our access_token in the header. Let’s save this header info now, in the following very specific format:\n",
    "    headers = {\n",
    "        'Authorization': 'Bearer {token}'.format(token=access_token)\n",
    "    }\n",
    "    \n",
    "    return headers"
   ]
  },
  {
   "cell_type": "markdown",
   "id": "dd1ae777-14d9-4e28-a5c4-58fef58b047c",
   "metadata": {},
   "source": [
    "# Requesting Input from User"
   ]
  },
  {
   "cell_type": "code",
   "execution_count": 3,
   "id": "6266a9b1-9177-4f8c-b5ac-48428ef9a98d",
   "metadata": {},
   "outputs": [
    {
     "name": "stdin",
     "output_type": "stream",
     "text": [
      "Please name a song:  don't stop me now\n"
     ]
    }
   ],
   "source": [
    "# need to add instructions or code to remove punctuations for search to work\n",
    "search_track = input(\"Please name a song: \").replace('\"', '').replace(\"'\", '').replace(\"!\",'')"
   ]
  },
  {
   "cell_type": "code",
   "execution_count": 4,
   "id": "87d25408-c6e1-4f5b-8395-628389a7bb04",
   "metadata": {},
   "outputs": [
    {
     "name": "stdin",
     "output_type": "stream",
     "text": [
      "Please name that song's artist:  queen\n"
     ]
    }
   ],
   "source": [
    "search_artist = input(\"Please name that song's artist: \").replace('\"', '').replace(\"'\", '')"
   ]
  },
  {
   "cell_type": "code",
   "execution_count": 5,
   "id": "8e76db29-1ce5-4f9d-857e-aa75117f5ab2",
   "metadata": {},
   "outputs": [],
   "source": [
    "# region_preference = input(\"Please select a region: \")"
   ]
  },
  {
   "cell_type": "markdown",
   "id": "e575fa52-c589-4837-b9e7-69709bccc5e4",
   "metadata": {
    "tags": []
   },
   "source": [
    "# (Keep cell below for testing track search)"
   ]
  },
  {
   "cell_type": "code",
   "execution_count": 6,
   "id": "ccb372f0-e7b2-48de-82ba-144a6fa4c753",
   "metadata": {
    "scrolled": true,
    "tags": []
   },
   "outputs": [
    {
     "name": "stdout",
     "output_type": "stream",
     "text": [
      "{'artists': {'href': 'https://api.spotify.com/v1/search?query=track%3Adont+stop+me+now+artist%3Aqueen&type=artist&offset=0&limit=1',\n",
      "             'items': [],\n",
      "             'limit': 1,\n",
      "             'next': None,\n",
      "             'offset': 0,\n",
      "             'previous': None,\n",
      "             'total': 0},\n",
      " 'tracks': {'href': 'https://api.spotify.com/v1/search?query=track%3Adont+stop+me+now+artist%3Aqueen&type=track&offset=0&limit=1',\n",
      "            'items': [{'album': {'album_type': 'album',\n",
      "                                 'artists': [{'external_urls': {'spotify': 'https://open.spotify.com/artist/1dfeR4HaWDbWqFHLkxsg1d'},\n",
      "                                              'href': 'https://api.spotify.com/v1/artists/1dfeR4HaWDbWqFHLkxsg1d',\n",
      "                                              'id': '1dfeR4HaWDbWqFHLkxsg1d',\n",
      "                                              'name': 'Queen',\n",
      "                                              'type': 'artist',\n",
      "                                              'uri': 'spotify:artist:1dfeR4HaWDbWqFHLkxsg1d'}],\n",
      "                                 'available_markets': ['CA', 'US'],\n",
      "                                 'external_urls': {'spotify': 'https://open.spotify.com/album/21HMAUrbbYSj9NiPPlGumy'},\n",
      "                                 'href': 'https://api.spotify.com/v1/albums/21HMAUrbbYSj9NiPPlGumy',\n",
      "                                 'id': '21HMAUrbbYSj9NiPPlGumy',\n",
      "                                 'images': [{'height': 640,\n",
      "                                             'url': 'https://i.scdn.co/image/ab67616d0000b273008b06ec71019afd70153889',\n",
      "                                             'width': 640},\n",
      "                                            {'height': 300,\n",
      "                                             'url': 'https://i.scdn.co/image/ab67616d00001e02008b06ec71019afd70153889',\n",
      "                                             'width': 300},\n",
      "                                            {'height': 64,\n",
      "                                             'url': 'https://i.scdn.co/image/ab67616d00004851008b06ec71019afd70153889',\n",
      "                                             'width': 64}],\n",
      "                                 'name': 'Jazz (Deluxe Remastered Version)',\n",
      "                                 'release_date': '1978-11-10',\n",
      "                                 'release_date_precision': 'day',\n",
      "                                 'total_tracks': 18,\n",
      "                                 'type': 'album',\n",
      "                                 'uri': 'spotify:album:21HMAUrbbYSj9NiPPlGumy'},\n",
      "                       'artists': [{'external_urls': {'spotify': 'https://open.spotify.com/artist/1dfeR4HaWDbWqFHLkxsg1d'},\n",
      "                                    'href': 'https://api.spotify.com/v1/artists/1dfeR4HaWDbWqFHLkxsg1d',\n",
      "                                    'id': '1dfeR4HaWDbWqFHLkxsg1d',\n",
      "                                    'name': 'Queen',\n",
      "                                    'type': 'artist',\n",
      "                                    'uri': 'spotify:artist:1dfeR4HaWDbWqFHLkxsg1d'}],\n",
      "                       'available_markets': ['CA', 'US'],\n",
      "                       'disc_number': 1,\n",
      "                       'duration_ms': 209413,\n",
      "                       'explicit': False,\n",
      "                       'external_ids': {'isrc': 'GBUM71029610'},\n",
      "                       'external_urls': {'spotify': 'https://open.spotify.com/track/7hQJA50XrCWABAu5v6QZ4i'},\n",
      "                       'href': 'https://api.spotify.com/v1/tracks/7hQJA50XrCWABAu5v6QZ4i',\n",
      "                       'id': '7hQJA50XrCWABAu5v6QZ4i',\n",
      "                       'is_local': False,\n",
      "                       'name': \"Don't Stop Me Now - Remastered 2011\",\n",
      "                       'popularity': 74,\n",
      "                       'preview_url': None,\n",
      "                       'track_number': 12,\n",
      "                       'type': 'track',\n",
      "                       'uri': 'spotify:track:7hQJA50XrCWABAu5v6QZ4i'}],\n",
      "            'limit': 1,\n",
      "            'next': 'https://api.spotify.com/v1/search?query=track%3Adont+stop+me+now+artist%3Aqueen&type=track&offset=1&limit=1',\n",
      "            'offset': 0,\n",
      "            'previous': None,\n",
      "            'total': 22}}\n"
     ]
    }
   ],
   "source": [
    "#base URL for Spotify API search\n",
    "search_url = 'https://api.spotify.com/v1/search'\n",
    "\n",
    "response = requests.get(search_url + '?q=track%3A' + search_track + '%20artist%3A' + search_artist + '&type=track%2Cartist&limit=1', headers=createToken()).json()\n",
    "\n",
    "pprint(response)\n",
    "\n",
    "# track_id = response['tracks']['items'][0][\"id\"]\n",
    "# artist_names = response['tracks']['items'][0][\"artists\"][0]['name']\n",
    "# track_name = response['tracks']['items'][0][\"name\"]"
   ]
  },
  {
   "cell_type": "markdown",
   "id": "4e496354-e13c-4f97-84a5-618a85b0095b",
   "metadata": {},
   "source": [
    "# Function to Search for Matching Track Using Spotify API, Create DF of Track Features"
   ]
  },
  {
   "cell_type": "code",
   "execution_count": 7,
   "id": "04e815c6-f200-4770-8b27-e6c05c91f0ed",
   "metadata": {},
   "outputs": [],
   "source": [
    "def searchTrack(track,artist):\n",
    "    #base URL for Spotify API search\n",
    "    search_url = 'https://api.spotify.com/v1/search'\n",
    "    \n",
    "    # API search for track & artist input by user\n",
    "    response = requests.get(search_url + '?q=track%3A' + search_track + '%20artist%3A' + search_artist + '&type=track%2Cartist&limit=1', headers=createToken()).json()\n",
    "    \n",
    "    # storing track id, artist, and track name from API search as variables\n",
    "    track_id = response['tracks']['items'][0][\"id\"]\n",
    "    artist_names = response['tracks']['items'][0][\"artists\"][0]['name']\n",
    "    track_name = response['tracks']['items'][0][\"name\"]\n",
    "    \n",
    "    #base URL for Spotify API\n",
    "    base_url = 'https://api.spotify.com/v1/'\n",
    "    # API call to collect track features\n",
    "    track_response = requests.get(base_url + 'audio-features/' + track_id, headers=createToken()).json()\n",
    "    \n",
    "    #empty lists to store song data retrieved from API call\n",
    "    danceability = []\n",
    "    energy = []\n",
    "    key = []\n",
    "    loudness = []\n",
    "    mode = []\n",
    "    speechiness = []\n",
    "    acousticness = []\n",
    "    instrumentalness = []\n",
    "    liveness = []\n",
    "    valence = []\n",
    "    tempo = []\n",
    "    id_num = []\n",
    "    duration_mins = []\n",
    "    time_signature = []\n",
    "\n",
    "    #fill in track info for each audio feature / empty list\n",
    "    danceability.append(track_response[\"danceability\"])\n",
    "    energy.append(track_response[\"energy\"])\n",
    "    key.append(track_response[\"key\"])\n",
    "    loudness.append(track_response[\"loudness\"])\n",
    "    mode.append(track_response[\"mode\"])\n",
    "    speechiness.append(track_response[\"speechiness\"])\n",
    "    acousticness.append(track_response[\"acousticness\"])\n",
    "    instrumentalness.append(track_response[\"instrumentalness\"])\n",
    "    liveness.append(track_response[\"liveness\"])\n",
    "    valence.append(track_response[\"valence\"])\n",
    "    tempo.append(track_response[\"tempo\"])\n",
    "    id_num.append(track_response[\"id\"])\n",
    "    #duration recorded in api in milliseconds, converting to minutes here\n",
    "    duration_mins.append(round((track_response[\"duration_ms\"] / 60000),2))\n",
    "    time_signature.append(track_response[\"time_signature\"])    \n",
    "\n",
    "    #create a dictionary to hold data gathered from the api\n",
    "    track_dict = {\n",
    "        \"track_id\": id_num,\n",
    "        \"artist_names\": artist_names,\n",
    "        \"track_name\": track_name,\n",
    "        \"danceability\": danceability,\n",
    "        \"energy\": energy,\n",
    "        \"key\": key,\n",
    "        \"loudness\": loudness,\n",
    "        \"mode\": mode,\n",
    "        \"speechiness\": speechiness,\n",
    "        \"acousticness\": acousticness,\n",
    "        \"instrumentalness\": instrumentalness,\n",
    "        \"liveness\": liveness,\n",
    "        \"valence\": valence,\n",
    "        \"tempo\": tempo,\n",
    "        \"duration_mins\": duration_mins,\n",
    "        \"time_signature\": time_signature,\n",
    "\n",
    "    }\n",
    "    #convert dictionary to a dataframe\n",
    "    input_track_df = pd.DataFrame(track_dict)\n",
    "    \n",
    "    return input_track_df"
   ]
  },
  {
   "cell_type": "code",
   "execution_count": 8,
   "id": "ac86a599-61ff-423a-b229-e952e5a750b6",
   "metadata": {},
   "outputs": [
    {
     "data": {
      "text/html": [
       "<div>\n",
       "<style scoped>\n",
       "    .dataframe tbody tr th:only-of-type {\n",
       "        vertical-align: middle;\n",
       "    }\n",
       "\n",
       "    .dataframe tbody tr th {\n",
       "        vertical-align: top;\n",
       "    }\n",
       "\n",
       "    .dataframe thead th {\n",
       "        text-align: right;\n",
       "    }\n",
       "</style>\n",
       "<table border=\"1\" class=\"dataframe\">\n",
       "  <thead>\n",
       "    <tr style=\"text-align: right;\">\n",
       "      <th></th>\n",
       "      <th>track_id</th>\n",
       "      <th>artist_names</th>\n",
       "      <th>track_name</th>\n",
       "      <th>danceability</th>\n",
       "      <th>energy</th>\n",
       "      <th>key</th>\n",
       "      <th>loudness</th>\n",
       "      <th>mode</th>\n",
       "      <th>speechiness</th>\n",
       "      <th>acousticness</th>\n",
       "      <th>instrumentalness</th>\n",
       "      <th>liveness</th>\n",
       "      <th>valence</th>\n",
       "      <th>tempo</th>\n",
       "      <th>duration_mins</th>\n",
       "      <th>time_signature</th>\n",
       "    </tr>\n",
       "  </thead>\n",
       "  <tbody>\n",
       "    <tr>\n",
       "      <th>0</th>\n",
       "      <td>7hQJA50XrCWABAu5v6QZ4i</td>\n",
       "      <td>Queen</td>\n",
       "      <td>Don't Stop Me Now - Remastered 2011</td>\n",
       "      <td>0.563</td>\n",
       "      <td>0.865</td>\n",
       "      <td>5</td>\n",
       "      <td>-5.277</td>\n",
       "      <td>1</td>\n",
       "      <td>0.16</td>\n",
       "      <td>0.0472</td>\n",
       "      <td>0.000191</td>\n",
       "      <td>0.77</td>\n",
       "      <td>0.601</td>\n",
       "      <td>156.271</td>\n",
       "      <td>3.49</td>\n",
       "      <td>4</td>\n",
       "    </tr>\n",
       "  </tbody>\n",
       "</table>\n",
       "</div>"
      ],
      "text/plain": [
       "                 track_id artist_names                           track_name  \\\n",
       "0  7hQJA50XrCWABAu5v6QZ4i        Queen  Don't Stop Me Now - Remastered 2011   \n",
       "\n",
       "   danceability  energy  key  loudness  mode  speechiness  acousticness  \\\n",
       "0         0.563   0.865    5    -5.277     1         0.16        0.0472   \n",
       "\n",
       "   instrumentalness  liveness  valence    tempo  duration_mins  time_signature  \n",
       "0          0.000191      0.77    0.601  156.271           3.49               4  "
      ]
     },
     "execution_count": 8,
     "metadata": {},
     "output_type": "execute_result"
    }
   ],
   "source": [
    "input_track_df = searchTrack(search_track,search_artist)\n",
    "input_track_df"
   ]
  },
  {
   "cell_type": "markdown",
   "id": "14fcdf3d-6342-464d-9ce7-9a3b58afe900",
   "metadata": {
    "tags": []
   },
   "source": [
    "# Reading in CSVs of Regional and Global Top 200 Charts"
   ]
  },
  {
   "cell_type": "code",
   "execution_count": 9,
   "id": "9b683499-742b-434e-b0c6-004cb1a11aed",
   "metadata": {},
   "outputs": [],
   "source": [
    "#import CSVs created in \"pulling_chart_track_features.ipynb\" and save as individual dfs\n",
    "features_csv_list = {\"Global\":\"global_df.csv\", \"Vietnam\":\"vietnam_df.csv\",\"Venezuela\":\"venezuela_df.csv\",\n",
    "\"Uruguay\":\"uruguay_df.csv\",\"United Kingdom\":\"united_kingdom_df.csv\",\"Ukraine\":\"ukraine_df.csv\",\n",
    "\"UAE\":\"uae_df.csv\",\"Turkey\":\"turkey_df.csv\",\"Thailand\":\"thailand_df.csv\",\n",
    "\"Taiwan\":\"taiwan_df.csv\",\"Switzerland\":\"switzerland_df.csv\",\"Sweden\":\"sweden_df.csv\",\n",
    "\"Spain\":\"spain_df.csv\",\"South Korea\":\"south_korea_df.csv\",\"South Africa\":\"south_africa_df.csv\",\n",
    "\"Slovakia\":\"slovakia_df.csv\",\"Singapore\":\"singapore_df.csv\",\"Saudi Arabia\":\"saudi_arabia_df.csv\",\n",
    "\"Romania\":\"romania_df.csv\",\"Portugal\":\"portugal_df.csv\",\"Poland\":\"poland_df.csv\",\n",
    "\"Philippines\":\"philippines_df.csv\",\"Peru\":\"peru_df.csv\",\"Paraguay\":\"paraguay_df.csv\",\n",
    "\"Panama\":\"panama_df.csv\",\"Pakistan\":\"pakistan_df.csv\",\"Norway\":\"norway_df.csv\",\n",
    "\"Nigeria\":\"nigeria_df.csv\",\"Nicaragua\":\"nicaragua_df.csv\",\"New Zealand\":\"new_zealand_df.csv\",\n",
    "\"Netherlands\":\"netherlands_df.csv\",\"Mexico\":\"mexico_df.csv\",\n",
    "\"Malaysia\":\"malaysia_df.csv\",\"Luxembourg\":\"luxembourg_df.csv\",\"Lithuania\":\"lithuania_df.csv\",\n",
    "\"Latvia\":\"latvia_df.csv\",\"Kazakhstan\":\"kazakhstan_df.csv\",\"Japan\":\"japan_df.csv\",\n",
    "\"Italy\":\"italy_df.csv\",\"Israel\":\"israel_df.csv\",\"Ireland\":\"ireland_df.csv\",\n",
    "\"Indonesia\":\"indonesia_df.csv\",\n",
    "\"Hungary\":\"hungary_df.csv\",\"Hong Kong\":\"hong_kong_df.csv\",\"Honduras\":\"honduras_df.csv\",\n",
    "\"Guatemala\":\"guatemala_df.csv\",\"Greece\":\"greece_df.csv\",\"Germany\":\"germany_df.csv\",\n",
    "\"France\":\"france_df.csv\",\"Finland\":\"finland_df.csv\",\"Estonia\":\"estonia_df.csv\",\n",
    "\"El Salvador\":\"el_salvador_df.csv\",\"Egypt\":\"egypt_df.csv\",\"Ecuador\":\"ecuador_df.csv\",\n",
    "\"Dominican Republic\":\"dominican_republic_df.csv\",\"Denmark\":\"denmark_df.csv\",\"Czech Republic\":\"czech_republic_df.csv\",\n",
    "\"Cyprus\":\"cyprus_df.csv\",\"Costa Rica\":\"costa_rica_df.csv\",\"Colombia\":\"colombia_df.csv\",\n",
    "\"Chile\":\"chile_df.csv\",\"Canada\":\"canada_df.csv\",\"Bulgaria\":\"bulgaria_df.csv\",\n",
    "\"Brazil\":\"brazil_df.csv\",\"Bolivia\":\"bolivia_df.csv\",\"Belgium\":\"belgium_df.csv\",\n",
    "\"Belarus\":\"belarus_df.csv\",\"Austria\":\"austria_df.csv\",\"Australia\":\"australia_df.csv\",\n",
    "\"Argentina\":\"argentina_df.csv\"}\n",
    "# currently not working w/ api calls: \"morocco\":\"morocco_df.csv\",\"india\":\"india_df.csv\",\"iceland\":\"iceland_df.csv\"\n",
    "\n",
    "d = {}\n",
    "\n",
    "for key in features_csv_list:\n",
    "    d[key] = pd.read_csv(f'resources/top_chart_features/{features_csv_list[key]}') \n"
   ]
  },
  {
   "cell_type": "code",
   "execution_count": 10,
   "id": "5361fc21-0198-4761-abc0-a4fde8b692be",
   "metadata": {},
   "outputs": [
    {
     "data": {
      "text/plain": [
       "dict_keys(['Global', 'Vietnam', 'Venezuela', 'Uruguay', 'United Kingdom', 'Ukraine', 'UAE', 'Turkey', 'Thailand', 'Taiwan', 'Switzerland', 'Sweden', 'Spain', 'South Korea', 'South Africa', 'Slovakia', 'Singapore', 'Saudi Arabia', 'Romania', 'Portugal', 'Poland', 'Philippines', 'Peru', 'Paraguay', 'Panama', 'Pakistan', 'Norway', 'Nigeria', 'Nicaragua', 'New Zealand', 'Netherlands', 'Mexico', 'Malaysia', 'Luxembourg', 'Lithuania', 'Latvia', 'Kazakhstan', 'Japan', 'Italy', 'Israel', 'Ireland', 'Indonesia', 'Hungary', 'Hong Kong', 'Honduras', 'Guatemala', 'Greece', 'Germany', 'France', 'Finland', 'Estonia', 'El Salvador', 'Egypt', 'Ecuador', 'Dominican Republic', 'Denmark', 'Czech Republic', 'Cyprus', 'Costa Rica', 'Colombia', 'Chile', 'Canada', 'Bulgaria', 'Brazil', 'Bolivia', 'Belgium', 'Belarus', 'Austria', 'Australia', 'Argentina'])"
      ]
     },
     "execution_count": 10,
     "metadata": {},
     "output_type": "execute_result"
    }
   ],
   "source": [
    "regions_list = d.keys()\n",
    "regions_list"
   ]
  },
  {
   "cell_type": "code",
   "execution_count": 11,
   "id": "1549b5e5-624f-4750-8f65-1f4ef53b7618",
   "metadata": {},
   "outputs": [
    {
     "data": {
      "text/plain": [
       "70"
      ]
     },
     "execution_count": 11,
     "metadata": {},
     "output_type": "execute_result"
    }
   ],
   "source": [
    "len(regions_list)"
   ]
  },
  {
   "cell_type": "code",
   "execution_count": null,
   "id": "919a2872-d8e3-4ad6-8468-8ab63b843793",
   "metadata": {},
   "outputs": [],
   "source": []
  },
  {
   "cell_type": "markdown",
   "id": "68469340-640f-48e2-9215-a6f4d54f4a4d",
   "metadata": {},
   "source": [
    "# Function to Recommend 5 Tracks from Selected Top 200 Chart"
   ]
  },
  {
   "cell_type": "code",
   "execution_count": 12,
   "id": "e54895a2-cebf-41fe-ac09-5f53b28e602d",
   "metadata": {},
   "outputs": [],
   "source": [
    "def recommendSongs(track, artist, selected_chart_df):\n",
    "    # run function to create DF with input track and its audio features\n",
    "    user_track_df = searchTrack(track,artist)\n",
    "    \n",
    "    # create combined df of the track features from the input track and all of the tracks from the selected regional chart\n",
    "    # row 0 will be the input song\n",
    "    combined_df = pd.concat([user_track_df,selected_chart_df.loc[:]]).reset_index(drop=True)    \n",
    "    \n",
    "    # scale data (only features columns), create df of scaled data\n",
    "    scaler = StandardScaler()\n",
    "    chart_scaled = scaler.fit_transform(combined_df.iloc[:, 3:16])\n",
    "    chart_scaled_df = pd.DataFrame(chart_scaled, columns=combined_df.iloc[:, 3:16].columns)\n",
    "\n",
    "    # create array for input track data\n",
    "    array1 = chart_scaled_df.iloc[0,:].to_numpy().reshape(1, -1)\n",
    "    # create array for selected chart\n",
    "    array2 = chart_scaled_df.iloc[1:,:].to_numpy()\n",
    "\n",
    "    # run cosine similarity\n",
    "    cosine_sim = cosine_similarity(array1, array2)\n",
    "    \n",
    "    # create list that is ranked by score, descending order\n",
    "    sim_scores = list(enumerate(cosine_sim[-1,:]))\n",
    "    sim_scores = sorted(sim_scores, key=lambda x: x[1], reverse=True)\n",
    "    \n",
    "    # create empty list to store recommendations\n",
    "    ranked_tracks = []\n",
    "\n",
    "    for i in range(0, 5):\n",
    "        indx = sim_scores[i][0]\n",
    "        ranked_tracks.append([combined_df['track_id'].iloc[indx], combined_df['artist_names'].iloc[indx], combined_df['track_name'].iloc[indx], np.round(sim_scores[i][1],decimals=2)])\n",
    "    \n",
    "    return ranked_tracks"
   ]
  },
  {
   "cell_type": "code",
   "execution_count": 13,
   "id": "1b5b0001-db30-48ed-8f18-7aed7fb92bf9",
   "metadata": {},
   "outputs": [
    {
     "data": {
      "text/plain": [
       "[['3fjN3y5x4hN53rykAN2LHQ', 'Rels B', 'cómo dormiste?', 0.81],\n",
       " ['6I3mqTwhRpn34SLVafSH7G', 'Justin Bieber', 'Ghost', 0.79],\n",
       " ['6Uj1ctrBOjOas8xZXGqKk4', 'Doja Cat', 'Woman', 0.76],\n",
       " ['4tYFy8ALRjIZvnvSLw5lxN', 'Bad Bunny, Rauw Alejandro', 'Party', 0.74],\n",
       " ['6xGruZOHLs39ZbVccQTuPZ', 'Joji', 'Glimpse of Us', 0.7]]"
      ]
     },
     "execution_count": 13,
     "metadata": {},
     "output_type": "execute_result"
    }
   ],
   "source": [
    "recommendSongs(search_track,search_artist,d['Global'])"
   ]
  },
  {
   "cell_type": "code",
   "execution_count": 14,
   "id": "0ed7e5d1-8e4e-4cbe-b532-f146cb4aadd7",
   "metadata": {},
   "outputs": [
    {
     "data": {
      "text/plain": [
       "[['29m79w9xPMH4YCD6r8JSmV',\n",
       "  'AP Dhillon, Gurinder Gill, Intense',\n",
       "  'Excuses',\n",
       "  0.86],\n",
       " ['58HvfVOeJY7lUuCqF0m3ly', 'Elley Duhé', 'MIDDLE OF THE NIGHT', 0.81],\n",
       " ['1xzi1Jcr7mEi9K2RfzLOqS', 'Beyoncé', 'CUFF IT', 0.79],\n",
       " ['5O2P9iiztwhomNh8xkR9lJ', 'One Direction', 'Night Changes', 0.77],\n",
       " ['0e5UZadoZ5me957hKsxRYh', 'JVKE', 'golden hour', 0.75]]"
      ]
     },
     "execution_count": 14,
     "metadata": {},
     "output_type": "execute_result"
    }
   ],
   "source": [
    "recommendSongs(search_track,search_artist,d['UAE'])"
   ]
  },
  {
   "cell_type": "code",
   "execution_count": null,
   "id": "ec67e59c-84a5-4b7f-bb8a-c33acd717481",
   "metadata": {},
   "outputs": [],
   "source": []
  }
 ],
 "metadata": {
  "kernelspec": {
   "display_name": "Python 3 (ipykernel)",
   "language": "python",
   "name": "python3"
  },
  "language_info": {
   "codemirror_mode": {
    "name": "ipython",
    "version": 3
   },
   "file_extension": ".py",
   "mimetype": "text/x-python",
   "name": "python",
   "nbconvert_exporter": "python",
   "pygments_lexer": "ipython3",
   "version": "3.9.7"
  }
 },
 "nbformat": 4,
 "nbformat_minor": 5
}
