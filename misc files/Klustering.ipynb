{
 "cells": [
  {
   "cell_type": "code",
   "execution_count": 65,
   "id": "62622477-b0ae-4f6f-99e6-6a256c961026",
   "metadata": {},
   "outputs": [],
   "source": [
    "import pandas as pd\n",
    "import requests\n",
    "import json\n",
    "from pprint import pprint\n",
    "import matplotlib.pyplot as plt\n",
    "from sklearn.preprocessing import StandardScaler\n",
    "from sklearn.decomposition import PCA\n",
    "from sklearn.manifold import TSNE\n",
    "from sklearn.cluster import KMeans\n",
    "import config\n",
    "import time"
   ]
  },
  {
   "cell_type": "code",
   "execution_count": 13,
   "id": "2acaab41-14bb-4be2-9987-c6643e35c5a8",
   "metadata": {},
   "outputs": [],
   "source": [
    "url = \"https://raw.githubusercontent.com/Flores-Kevin/rage-against-machine-learning/molly/resources/regional-usa-weekly-2022-10-06.csv\""
   ]
  },
  {
   "cell_type": "code",
   "execution_count": 14,
   "id": "2993573f-a6f2-49c7-a4b3-9b623769191a",
   "metadata": {},
   "outputs": [],
   "source": [
    "df = pd.read_csv(url)"
   ]
  },
  {
   "cell_type": "code",
   "execution_count": 15,
   "id": "a9aadb84-eecd-4d8e-9cf2-da2b84c9bf1c",
   "metadata": {},
   "outputs": [
    {
     "data": {
      "text/html": [
       "<div>\n",
       "<style scoped>\n",
       "    .dataframe tbody tr th:only-of-type {\n",
       "        vertical-align: middle;\n",
       "    }\n",
       "\n",
       "    .dataframe tbody tr th {\n",
       "        vertical-align: top;\n",
       "    }\n",
       "\n",
       "    .dataframe thead th {\n",
       "        text-align: right;\n",
       "    }\n",
       "</style>\n",
       "<table border=\"1\" class=\"dataframe\">\n",
       "  <thead>\n",
       "    <tr style=\"text-align: right;\">\n",
       "      <th></th>\n",
       "      <th>rank</th>\n",
       "      <th>uri</th>\n",
       "      <th>artist_names</th>\n",
       "      <th>track_name</th>\n",
       "      <th>source</th>\n",
       "      <th>peak_rank</th>\n",
       "      <th>previous_rank</th>\n",
       "      <th>weeks_on_chart</th>\n",
       "      <th>streams</th>\n",
       "    </tr>\n",
       "  </thead>\n",
       "  <tbody>\n",
       "    <tr>\n",
       "      <th>0</th>\n",
       "      <td>1</td>\n",
       "      <td>spotify:track:3nqQXoyQOWXiESFLlDF1hG</td>\n",
       "      <td>Sam Smith, Kim Petras</td>\n",
       "      <td>Unholy (feat. Kim Petras)</td>\n",
       "      <td>EMI</td>\n",
       "      <td>1</td>\n",
       "      <td>1</td>\n",
       "      <td>2</td>\n",
       "      <td>12004993</td>\n",
       "    </tr>\n",
       "  </tbody>\n",
       "</table>\n",
       "</div>"
      ],
      "text/plain": [
       "   rank                                   uri           artist_names  \\\n",
       "0     1  spotify:track:3nqQXoyQOWXiESFLlDF1hG  Sam Smith, Kim Petras   \n",
       "\n",
       "                  track_name source  peak_rank  previous_rank  weeks_on_chart  \\\n",
       "0  Unholy (feat. Kim Petras)    EMI          1              1               2   \n",
       "\n",
       "    streams  \n",
       "0  12004993  "
      ]
     },
     "execution_count": 15,
     "metadata": {},
     "output_type": "execute_result"
    }
   ],
   "source": [
    "df.head(1)"
   ]
  },
  {
   "cell_type": "code",
   "execution_count": 16,
   "id": "da9688e3-fa5b-427f-8fb7-b9190bc5bc2d",
   "metadata": {},
   "outputs": [
    {
     "data": {
      "text/plain": [
       "Index(['rank', 'uri', 'artist_names', 'track_name', 'source', 'peak_rank',\n",
       "       'previous_rank', 'weeks_on_chart', 'streams'],\n",
       "      dtype='object')"
      ]
     },
     "execution_count": 16,
     "metadata": {},
     "output_type": "execute_result"
    }
   ],
   "source": [
    "df.columns"
   ]
  },
  {
   "cell_type": "code",
   "execution_count": 17,
   "id": "b52a644d-aa34-40a1-8399-a95c8f1e14c4",
   "metadata": {},
   "outputs": [],
   "source": [
    "#extracting track id (removing \"spotify:track:\" from track id in csv)\n",
    "track_id_series = df.uri.str[14:]"
   ]
  },
  {
   "cell_type": "code",
   "execution_count": 18,
   "id": "94d1e22f-81dd-4d15-aede-9e0b42272b40",
   "metadata": {},
   "outputs": [],
   "source": [
    "#convert to df and rename column\n",
    "track_id_df = track_id_series.to_frame().rename(columns={\"uri\":\"track_id\"})"
   ]
  },
  {
   "cell_type": "code",
   "execution_count": 19,
   "id": "0783004a-97bf-4c3c-9b5b-a6a056f7197c",
   "metadata": {},
   "outputs": [],
   "source": [
    "#merge dfs\n",
    "df = df.merge(track_id_df, how=\"inner\", left_index=True, right_index=True)\n",
    "df = df[[\"rank\", \"track_id\", \"artist_names\", \"track_name\", \"peak_rank\", \"previous_rank\", \"weeks_on_chart\", \"streams\"]]"
   ]
  },
  {
   "cell_type": "code",
   "execution_count": 20,
   "id": "39f6f208-547d-459e-8c75-f3ec849c0fee",
   "metadata": {},
   "outputs": [
    {
     "data": {
      "text/html": [
       "<div>\n",
       "<style scoped>\n",
       "    .dataframe tbody tr th:only-of-type {\n",
       "        vertical-align: middle;\n",
       "    }\n",
       "\n",
       "    .dataframe tbody tr th {\n",
       "        vertical-align: top;\n",
       "    }\n",
       "\n",
       "    .dataframe thead th {\n",
       "        text-align: right;\n",
       "    }\n",
       "</style>\n",
       "<table border=\"1\" class=\"dataframe\">\n",
       "  <thead>\n",
       "    <tr style=\"text-align: right;\">\n",
       "      <th></th>\n",
       "      <th>rank</th>\n",
       "      <th>track_id</th>\n",
       "      <th>artist_names</th>\n",
       "      <th>track_name</th>\n",
       "      <th>peak_rank</th>\n",
       "      <th>previous_rank</th>\n",
       "      <th>weeks_on_chart</th>\n",
       "      <th>streams</th>\n",
       "    </tr>\n",
       "  </thead>\n",
       "  <tbody>\n",
       "    <tr>\n",
       "      <th>0</th>\n",
       "      <td>1</td>\n",
       "      <td>3nqQXoyQOWXiESFLlDF1hG</td>\n",
       "      <td>Sam Smith, Kim Petras</td>\n",
       "      <td>Unholy (feat. Kim Petras)</td>\n",
       "      <td>1</td>\n",
       "      <td>1</td>\n",
       "      <td>2</td>\n",
       "      <td>12004993</td>\n",
       "    </tr>\n",
       "    <tr>\n",
       "      <th>1</th>\n",
       "      <td>2</td>\n",
       "      <td>4k6Uh1HXdhtusDW5y8Gbvy</td>\n",
       "      <td>Steve Lacy</td>\n",
       "      <td>Bad Habit</td>\n",
       "      <td>1</td>\n",
       "      <td>2</td>\n",
       "      <td>14</td>\n",
       "      <td>10425163</td>\n",
       "    </tr>\n",
       "    <tr>\n",
       "      <th>2</th>\n",
       "      <td>3</td>\n",
       "      <td>1IHWl5LamUGEuP4ozKQSXZ</td>\n",
       "      <td>Bad Bunny</td>\n",
       "      <td>Tití Me Preguntó</td>\n",
       "      <td>3</td>\n",
       "      <td>7</td>\n",
       "      <td>22</td>\n",
       "      <td>6742213</td>\n",
       "    </tr>\n",
       "    <tr>\n",
       "      <th>3</th>\n",
       "      <td>4</td>\n",
       "      <td>4Dvkj6JhhA12EX05fT7y2e</td>\n",
       "      <td>Harry Styles</td>\n",
       "      <td>As It Was</td>\n",
       "      <td>1</td>\n",
       "      <td>3</td>\n",
       "      <td>27</td>\n",
       "      <td>6540607</td>\n",
       "    </tr>\n",
       "    <tr>\n",
       "      <th>4</th>\n",
       "      <td>5</td>\n",
       "      <td>1xK59OXxi2TAAAbmZK0kBL</td>\n",
       "      <td>d4vd</td>\n",
       "      <td>Romantic Homicide</td>\n",
       "      <td>5</td>\n",
       "      <td>5</td>\n",
       "      <td>9</td>\n",
       "      <td>6375518</td>\n",
       "    </tr>\n",
       "    <tr>\n",
       "      <th>...</th>\n",
       "      <td>...</td>\n",
       "      <td>...</td>\n",
       "      <td>...</td>\n",
       "      <td>...</td>\n",
       "      <td>...</td>\n",
       "      <td>...</td>\n",
       "      <td>...</td>\n",
       "      <td>...</td>\n",
       "    </tr>\n",
       "    <tr>\n",
       "      <th>195</th>\n",
       "      <td>196</td>\n",
       "      <td>3yfqSUWxFvZELEM4PmlwIR</td>\n",
       "      <td>Eminem</td>\n",
       "      <td>The Real Slim Shady</td>\n",
       "      <td>48</td>\n",
       "      <td>194</td>\n",
       "      <td>28</td>\n",
       "      <td>1615334</td>\n",
       "    </tr>\n",
       "    <tr>\n",
       "      <th>196</th>\n",
       "      <td>197</td>\n",
       "      <td>6UelLqGlWMcVH1E5c4H7lY</td>\n",
       "      <td>Harry Styles</td>\n",
       "      <td>Watermelon Sugar</td>\n",
       "      <td>4</td>\n",
       "      <td>178</td>\n",
       "      <td>143</td>\n",
       "      <td>1604146</td>\n",
       "    </tr>\n",
       "    <tr>\n",
       "      <th>197</th>\n",
       "      <td>198</td>\n",
       "      <td>48q0vSHcJdhK3IiXH8C5WJ</td>\n",
       "      <td>Arctic Monkeys</td>\n",
       "      <td>Why'd You Only Call Me When You're High?</td>\n",
       "      <td>111</td>\n",
       "      <td>-1</td>\n",
       "      <td>14</td>\n",
       "      <td>1603256</td>\n",
       "    </tr>\n",
       "    <tr>\n",
       "      <th>198</th>\n",
       "      <td>199</td>\n",
       "      <td>4MzXwWMhyBbmu6hOcLVD49</td>\n",
       "      <td>Bad Bunny, Jhay Cortez</td>\n",
       "      <td>DÁKITI</td>\n",
       "      <td>1</td>\n",
       "      <td>186</td>\n",
       "      <td>92</td>\n",
       "      <td>1601541</td>\n",
       "    </tr>\n",
       "    <tr>\n",
       "      <th>199</th>\n",
       "      <td>200</td>\n",
       "      <td>3YJJjQPAbDT7mGpX3WtQ9A</td>\n",
       "      <td>SZA</td>\n",
       "      <td>Good Days</td>\n",
       "      <td>1</td>\n",
       "      <td>182</td>\n",
       "      <td>84</td>\n",
       "      <td>1600345</td>\n",
       "    </tr>\n",
       "  </tbody>\n",
       "</table>\n",
       "<p>200 rows × 8 columns</p>\n",
       "</div>"
      ],
      "text/plain": [
       "     rank                track_id            artist_names  \\\n",
       "0       1  3nqQXoyQOWXiESFLlDF1hG   Sam Smith, Kim Petras   \n",
       "1       2  4k6Uh1HXdhtusDW5y8Gbvy              Steve Lacy   \n",
       "2       3  1IHWl5LamUGEuP4ozKQSXZ               Bad Bunny   \n",
       "3       4  4Dvkj6JhhA12EX05fT7y2e            Harry Styles   \n",
       "4       5  1xK59OXxi2TAAAbmZK0kBL                    d4vd   \n",
       "..    ...                     ...                     ...   \n",
       "195   196  3yfqSUWxFvZELEM4PmlwIR                  Eminem   \n",
       "196   197  6UelLqGlWMcVH1E5c4H7lY            Harry Styles   \n",
       "197   198  48q0vSHcJdhK3IiXH8C5WJ          Arctic Monkeys   \n",
       "198   199  4MzXwWMhyBbmu6hOcLVD49  Bad Bunny, Jhay Cortez   \n",
       "199   200  3YJJjQPAbDT7mGpX3WtQ9A                     SZA   \n",
       "\n",
       "                                   track_name  peak_rank  previous_rank  \\\n",
       "0                   Unholy (feat. Kim Petras)          1              1   \n",
       "1                                   Bad Habit          1              2   \n",
       "2                            Tití Me Preguntó          3              7   \n",
       "3                                   As It Was          1              3   \n",
       "4                           Romantic Homicide          5              5   \n",
       "..                                        ...        ...            ...   \n",
       "195                       The Real Slim Shady         48            194   \n",
       "196                          Watermelon Sugar          4            178   \n",
       "197  Why'd You Only Call Me When You're High?        111             -1   \n",
       "198                                    DÁKITI          1            186   \n",
       "199                                 Good Days          1            182   \n",
       "\n",
       "     weeks_on_chart   streams  \n",
       "0                 2  12004993  \n",
       "1                14  10425163  \n",
       "2                22   6742213  \n",
       "3                27   6540607  \n",
       "4                 9   6375518  \n",
       "..              ...       ...  \n",
       "195              28   1615334  \n",
       "196             143   1604146  \n",
       "197              14   1603256  \n",
       "198              92   1601541  \n",
       "199              84   1600345  \n",
       "\n",
       "[200 rows x 8 columns]"
      ]
     },
     "execution_count": 20,
     "metadata": {},
     "output_type": "execute_result"
    }
   ],
   "source": [
    "df"
   ]
  },
  {
   "cell_type": "code",
   "execution_count": 21,
   "id": "33a06fbd-a389-4a5d-b7df-8c60168baa3c",
   "metadata": {},
   "outputs": [],
   "source": [
    "first_track_id = df[\"track_id\"][0]"
   ]
  },
  {
   "cell_type": "code",
   "execution_count": 22,
   "id": "8230e57f-be49-4ede-a425-897171177a02",
   "metadata": {},
   "outputs": [],
   "source": [
    "#base URL for Spotify API search\n",
    "search_url = 'https://api.spotify.com/v1/search'\n",
    "\n",
    "#In order to access, we send a properly formed GET request to the API server, with our access_token in the header. Let’s save this header info now, in the following very specific format:\n",
    "headers = {\n",
    "    'Authorization': 'Bearer {token}'.format(token=access_token)\n",
    "}"
   ]
  },
  {
   "cell_type": "code",
   "execution_count": 23,
   "id": "2e91c3c3-9d14-4125-9eda-f2abc65bf3a7",
   "metadata": {},
   "outputs": [],
   "source": [
    "AUTH_URL = 'https://accounts.spotify.com/api/token'\n",
    "\n",
    "# POST\n",
    "auth_response = requests.post(AUTH_URL, {\n",
    "    'grant_type': 'client_credentials',\n",
    "    'client_id': config.client_id,\n",
    "    'client_secret': config.client_secret,\n",
    "})\n",
    "\n",
    "# convert the response to JSON\n",
    "auth_response_data = auth_response.json()\n",
    "\n",
    "# save the access token\n",
    "access_token = auth_response_data['access_token']"
   ]
  },
  {
   "cell_type": "code",
   "execution_count": 24,
   "id": "4bfa70a1-57df-4521-b7a5-791a8d76ca83",
   "metadata": {},
   "outputs": [],
   "source": [
    "#base URL for Spotify API\n",
    "base_url = 'https://api.spotify.com/v1/'\n",
    "\n",
    "track_response = requests.get(base_url + 'audio-features/' + first_track_id, headers=headers).json()"
   ]
  },
  {
   "cell_type": "code",
   "execution_count": 25,
   "id": "25baa45c-5a60-414d-a117-1e0d0c7b8f9a",
   "metadata": {},
   "outputs": [],
   "source": [
    "#empty lists to store song data\n",
    "global_danceability = []\n",
    "global_energy = []\n",
    "global_key = []\n",
    "global_loudness = []\n",
    "global_mode = []\n",
    "global_speechiness = []\n",
    "global_acousticness = []\n",
    "global_instrumentalness = []\n",
    "global_liveness = []\n",
    "global_valence = []\n",
    "global_tempo = []\n",
    "global_id_num = []\n",
    "global_track_href = []\n",
    "global_analysis_url = []\n",
    "global_duration_mins = []\n",
    "global_time_signature = []"
   ]
  },
  {
   "cell_type": "code",
   "execution_count": 28,
   "id": "3a6a740e-89b4-4982-a689-fe8ff5b4a19a",
   "metadata": {},
   "outputs": [],
   "source": [
    "#loop through dataframe, use track id to look up songs in spotify api and grab each one's audio features\n",
    "for t in df[\"track_id\"]:\n",
    "    global_response = requests.get(base_url + 'audio-features/' + t, headers=headers).json()\n",
    "    \n",
    "    time.sleep(1)\n",
    "    \n",
    "    #fill in track info for each audio feature / empty list\n",
    "    global_danceability.append(global_response[\"danceability\"])\n",
    "    global_energy.append(global_response[\"energy\"])\n",
    "    global_key.append(global_response[\"key\"])\n",
    "    global_loudness.append(global_response[\"loudness\"])\n",
    "    global_mode.append(global_response[\"mode\"])\n",
    "    global_speechiness.append(global_response[\"speechiness\"])\n",
    "    global_acousticness.append(global_response[\"acousticness\"])\n",
    "    global_instrumentalness.append(global_response[\"instrumentalness\"])\n",
    "    global_liveness.append(global_response[\"liveness\"])\n",
    "    global_valence.append(global_response[\"valence\"])\n",
    "    global_tempo.append(global_response[\"tempo\"])\n",
    "    global_id_num.append(global_response[\"id\"])\n",
    "    global_track_href.append(global_response[\"track_href\"])\n",
    "    global_analysis_url.append(global_response[\"analysis_url\"])    \n",
    "    #duration recorded in api in milliseconds, converting to minutes here\n",
    "    global_duration_mins.append(round((global_response[\"duration_ms\"] / 60000),2))\n",
    "    global_time_signature.append(global_response[\"time_signature\"])"
   ]
  },
  {
   "cell_type": "code",
   "execution_count": 63,
   "id": "08fcfb17-9003-4be7-bf7d-173bb454038d",
   "metadata": {},
   "outputs": [
    {
     "name": "stdout",
     "output_type": "stream",
     "text": [
      "[0.714, 0.686, 0.65, 0.52, 0.571, 0.911, 0.951, 0.369, 0.561, 0.529, 0.704, 0.697, 0.733, 0.586, 0.612, 0.603, 0.44, 0.511, 0.801, 0.731, 0.463, 0.801, 0.69, 0.78, 0.714, 0.335, 0.733, 0.761, 0.367, 0.637, 0.804, 0.608, 0.836, 0.52, 0.768, 0.346, 0.647, 0.505, 0.723, 0.876, 0.582, 0.629, 0.818, 0.591, 0.79, 0.9, 0.902, 0.711, 0.554, 0.467, 0.369, 0.594, 0.607, 0.698, 0.621, 0.829, 0.639, 0.716, 0.66, 0.835, 0.791, 0.566, 0.647, 0.849, 0.676, 0.564, 0.614, 0.723, 0.715, 0.485, 0.87, 0.558, 0.575, 0.323, 0.645, 0.228, 0.625, 0.585, 0.795, 0.679, 0.754, 0.578, 0.572, 0.49, 0.663, 0.772, 0.352, 0.495, 0.645, 0.659, 0.877, 0.914, 0.515, 0.514, 0.461, 0.721, 0.601, 0.755, 0.664, 0.881, 0.897, 0.464, 0.743, 0.773, 0.773, 0.68, 0.913, 0.801, 0.693, 0.671, 0.883, 0.762, 0.741, 0.963, 0.565, 0.563, 0.746, 0.511, 0.545, 0.508, 0.724, 0.332, 0.677, 0.392, 0.615, 0.631, 0.529, 0.789, 0.8, 0.627, 0.413, 0.695, 0.371, 0.442, 0.824, 0.372, 0.602, 0.828, 0.588, 0.544, 0.559, 0.794, 0.631, 0.579, 0.798, 0.772, 0.68, 0.912, 0.617, 0.693, 0.542, 0.38, 0.62, 0.825, 0.532, 0.627, 0.524, 0.345, 0.474, 0.586, 0.609, 0.583, 0.908, 0.549, 0.964, 0.792, 0.787, 0.536, 0.715, 0.403, 0.585, 0.837, 0.489, 0.507, 0.675, 0.83, 0.702, 0.216, 0.621, 0.829, 0.626, 0.357, 0.764, 0.38, 0.892, 0.586, 0.479, 0.788, 0.795, 0.585, 0.345, 0.408, 0.789, 0.665, 0.442, 0.949, 0.548, 0.691, 0.731, 0.436]\n"
     ]
    }
   ],
   "source": [
    "print(global_danceability)"
   ]
  },
  {
   "cell_type": "code",
   "execution_count": 32,
   "id": "7b7b9a40-0db7-4fde-8e67-dd9dc39f6121",
   "metadata": {},
   "outputs": [],
   "source": [
    "# global_danceabilityctionary to hold data gathered from the api\n",
    "global_songs_dict = {\n",
    "    \"track_id\": global_id_num,\n",
    "    \"danceability\": global_danceability,\n",
    "    \"energy\": global_energy,\n",
    "    \"key\": global_key,\n",
    "    \"loudness\": global_loudness,\n",
    "    \"mode\": global_mode,\n",
    "    \"speechiness\": global_speechiness,\n",
    "    \"acousticness\": global_acousticness,\n",
    "    \"instrumentalness\": global_instrumentalness,\n",
    "    \"liveness\": global_liveness,\n",
    "    \"valence\": global_valence,\n",
    "    \"tempo\": global_tempo,\n",
    "    \"duration_mins\": global_duration_mins,\n",
    "    \"time_signature\": global_time_signature,\n",
    "    \"track_href\": global_track_href,\n",
    "    \"analysis_url\": global_analysis_url\n",
    "}"
   ]
  },
  {
   "cell_type": "code",
   "execution_count": 64,
   "id": "afe5cece-a68e-444d-a991-3b64cef05a8c",
   "metadata": {},
   "outputs": [
    {
     "data": {
      "text/html": [
       "<div>\n",
       "<style scoped>\n",
       "    .dataframe tbody tr th:only-of-type {\n",
       "        vertical-align: middle;\n",
       "    }\n",
       "\n",
       "    .dataframe tbody tr th {\n",
       "        vertical-align: top;\n",
       "    }\n",
       "\n",
       "    .dataframe thead th {\n",
       "        text-align: right;\n",
       "    }\n",
       "</style>\n",
       "<table border=\"1\" class=\"dataframe\">\n",
       "  <thead>\n",
       "    <tr style=\"text-align: right;\">\n",
       "      <th></th>\n",
       "      <th>track_id</th>\n",
       "      <th>danceability</th>\n",
       "      <th>energy</th>\n",
       "      <th>key</th>\n",
       "      <th>loudness</th>\n",
       "      <th>mode</th>\n",
       "      <th>speechiness</th>\n",
       "      <th>acousticness</th>\n",
       "      <th>instrumentalness</th>\n",
       "      <th>liveness</th>\n",
       "      <th>valence</th>\n",
       "      <th>tempo</th>\n",
       "      <th>duration_mins</th>\n",
       "      <th>time_signature</th>\n",
       "      <th>track_href</th>\n",
       "      <th>analysis_url</th>\n",
       "    </tr>\n",
       "  </thead>\n",
       "  <tbody>\n",
       "    <tr>\n",
       "      <th>0</th>\n",
       "      <td>3nqQXoyQOWXiESFLlDF1hG</td>\n",
       "      <td>0.714</td>\n",
       "      <td>0.472</td>\n",
       "      <td>2</td>\n",
       "      <td>-7.375</td>\n",
       "      <td>1</td>\n",
       "      <td>0.0864</td>\n",
       "      <td>0.0130</td>\n",
       "      <td>0.000005</td>\n",
       "      <td>0.266</td>\n",
       "      <td>0.238</td>\n",
       "      <td>131.121</td>\n",
       "      <td>2.62</td>\n",
       "      <td>4</td>\n",
       "      <td>https://api.spotify.com/v1/tracks/3nqQXoyQOWXi...</td>\n",
       "      <td>https://api.spotify.com/v1/audio-analysis/3nqQ...</td>\n",
       "    </tr>\n",
       "    <tr>\n",
       "      <th>1</th>\n",
       "      <td>4k6Uh1HXdhtusDW5y8Gbvy</td>\n",
       "      <td>0.686</td>\n",
       "      <td>0.494</td>\n",
       "      <td>1</td>\n",
       "      <td>-7.093</td>\n",
       "      <td>1</td>\n",
       "      <td>0.0355</td>\n",
       "      <td>0.6130</td>\n",
       "      <td>0.000058</td>\n",
       "      <td>0.402</td>\n",
       "      <td>0.700</td>\n",
       "      <td>168.946</td>\n",
       "      <td>3.87</td>\n",
       "      <td>4</td>\n",
       "      <td>https://api.spotify.com/v1/tracks/4k6Uh1HXdhtu...</td>\n",
       "      <td>https://api.spotify.com/v1/audio-analysis/4k6U...</td>\n",
       "    </tr>\n",
       "    <tr>\n",
       "      <th>2</th>\n",
       "      <td>1IHWl5LamUGEuP4ozKQSXZ</td>\n",
       "      <td>0.650</td>\n",
       "      <td>0.715</td>\n",
       "      <td>5</td>\n",
       "      <td>-5.198</td>\n",
       "      <td>0</td>\n",
       "      <td>0.2530</td>\n",
       "      <td>0.0993</td>\n",
       "      <td>0.000291</td>\n",
       "      <td>0.126</td>\n",
       "      <td>0.187</td>\n",
       "      <td>106.672</td>\n",
       "      <td>4.06</td>\n",
       "      <td>4</td>\n",
       "      <td>https://api.spotify.com/v1/tracks/1IHWl5LamUGE...</td>\n",
       "      <td>https://api.spotify.com/v1/audio-analysis/1IHW...</td>\n",
       "    </tr>\n",
       "    <tr>\n",
       "      <th>3</th>\n",
       "      <td>4Dvkj6JhhA12EX05fT7y2e</td>\n",
       "      <td>0.520</td>\n",
       "      <td>0.731</td>\n",
       "      <td>6</td>\n",
       "      <td>-5.338</td>\n",
       "      <td>0</td>\n",
       "      <td>0.0557</td>\n",
       "      <td>0.3420</td>\n",
       "      <td>0.001010</td>\n",
       "      <td>0.311</td>\n",
       "      <td>0.662</td>\n",
       "      <td>173.930</td>\n",
       "      <td>2.79</td>\n",
       "      <td>4</td>\n",
       "      <td>https://api.spotify.com/v1/tracks/4Dvkj6JhhA12...</td>\n",
       "      <td>https://api.spotify.com/v1/audio-analysis/4Dvk...</td>\n",
       "    </tr>\n",
       "    <tr>\n",
       "      <th>4</th>\n",
       "      <td>1xK59OXxi2TAAAbmZK0kBL</td>\n",
       "      <td>0.571</td>\n",
       "      <td>0.544</td>\n",
       "      <td>6</td>\n",
       "      <td>-10.613</td>\n",
       "      <td>1</td>\n",
       "      <td>0.0299</td>\n",
       "      <td>0.4530</td>\n",
       "      <td>0.008050</td>\n",
       "      <td>0.322</td>\n",
       "      <td>0.216</td>\n",
       "      <td>132.052</td>\n",
       "      <td>2.21</td>\n",
       "      <td>4</td>\n",
       "      <td>https://api.spotify.com/v1/tracks/1xK59OXxi2TA...</td>\n",
       "      <td>https://api.spotify.com/v1/audio-analysis/1xK5...</td>\n",
       "    </tr>\n",
       "  </tbody>\n",
       "</table>\n",
       "</div>"
      ],
      "text/plain": [
       "                 track_id  danceability  energy  key  loudness  mode  \\\n",
       "0  3nqQXoyQOWXiESFLlDF1hG         0.714   0.472    2    -7.375     1   \n",
       "1  4k6Uh1HXdhtusDW5y8Gbvy         0.686   0.494    1    -7.093     1   \n",
       "2  1IHWl5LamUGEuP4ozKQSXZ         0.650   0.715    5    -5.198     0   \n",
       "3  4Dvkj6JhhA12EX05fT7y2e         0.520   0.731    6    -5.338     0   \n",
       "4  1xK59OXxi2TAAAbmZK0kBL         0.571   0.544    6   -10.613     1   \n",
       "\n",
       "   speechiness  acousticness  instrumentalness  liveness  valence    tempo  \\\n",
       "0       0.0864        0.0130          0.000005     0.266    0.238  131.121   \n",
       "1       0.0355        0.6130          0.000058     0.402    0.700  168.946   \n",
       "2       0.2530        0.0993          0.000291     0.126    0.187  106.672   \n",
       "3       0.0557        0.3420          0.001010     0.311    0.662  173.930   \n",
       "4       0.0299        0.4530          0.008050     0.322    0.216  132.052   \n",
       "\n",
       "   duration_mins  time_signature  \\\n",
       "0           2.62               4   \n",
       "1           3.87               4   \n",
       "2           4.06               4   \n",
       "3           2.79               4   \n",
       "4           2.21               4   \n",
       "\n",
       "                                          track_href  \\\n",
       "0  https://api.spotify.com/v1/tracks/3nqQXoyQOWXi...   \n",
       "1  https://api.spotify.com/v1/tracks/4k6Uh1HXdhtu...   \n",
       "2  https://api.spotify.com/v1/tracks/1IHWl5LamUGE...   \n",
       "3  https://api.spotify.com/v1/tracks/4Dvkj6JhhA12...   \n",
       "4  https://api.spotify.com/v1/tracks/1xK59OXxi2TA...   \n",
       "\n",
       "                                        analysis_url  \n",
       "0  https://api.spotify.com/v1/audio-analysis/3nqQ...  \n",
       "1  https://api.spotify.com/v1/audio-analysis/4k6U...  \n",
       "2  https://api.spotify.com/v1/audio-analysis/1IHW...  \n",
       "3  https://api.spotify.com/v1/audio-analysis/4Dvk...  \n",
       "4  https://api.spotify.com/v1/audio-analysis/1xK5...  "
      ]
     },
     "execution_count": 64,
     "metadata": {},
     "output_type": "execute_result"
    }
   ],
   "source": [
    "#convert dictionary to a dataframe\n",
    "global_info_df = pd.DataFrame(global_songs_dict)\n",
    "global_info_df.head()"
   ]
  },
  {
   "cell_type": "code",
   "execution_count": 39,
   "id": "d1c80d14-13e8-4d5c-8fe6-31055e02e93b",
   "metadata": {},
   "outputs": [],
   "source": [
    "gloabl_info_df = gloabl_info_df.drop(columns={'track_id','track_href','analysis_url'})"
   ]
  },
  {
   "cell_type": "code",
   "execution_count": 40,
   "id": "01cc7c7d-0865-49e6-8ee6-30d942db33a1",
   "metadata": {},
   "outputs": [],
   "source": [
    "#Scale the data\n",
    "scaler = StandardScaler()\n",
    "df_scaled = scaler.fit_transform(gloabl_info_df)"
   ]
  },
  {
   "cell_type": "code",
   "execution_count": 41,
   "id": "b9125631-fca6-4c0e-a573-f6b4a9cdeedf",
   "metadata": {},
   "outputs": [],
   "source": [
    "#Reducing dimensionality with pca\n",
    "pca = PCA(n_components = 0.9)\n",
    "df_pca = pca.fit_transform(df_scaled)"
   ]
  },
  {
   "cell_type": "code",
   "execution_count": 42,
   "id": "f6d79a01-6f0a-40c0-beb2-cb53d8553ebf",
   "metadata": {},
   "outputs": [
    {
     "name": "stderr",
     "output_type": "stream",
     "text": [
      "/Users/kevin/opt/anaconda3/lib/python3.9/site-packages/sklearn/manifold/_t_sne.py:800: FutureWarning: The default initialization in TSNE will change from 'random' to 'pca' in 1.2.\n",
      "  warnings.warn(\n",
      "/Users/kevin/opt/anaconda3/lib/python3.9/site-packages/sklearn/manifold/_t_sne.py:810: FutureWarning: The default learning rate in TSNE will change from 200.0 to 'auto' in 1.2.\n",
      "  warnings.warn(\n"
     ]
    }
   ],
   "source": [
    "#Run t-SNE on the pca output to further reduce dimensionality.\n",
    "tsne = TSNE()\n",
    "df_tsne = tsne.fit_transform(df_pca)"
   ]
  },
  {
   "cell_type": "code",
   "execution_count": 62,
   "id": "db281d7d-3fb8-4b8c-8836-e4fcb95d0885",
   "metadata": {},
   "outputs": [
    {
     "ename": "NameError",
     "evalue": "name 'danceability' is not defined",
     "output_type": "error",
     "traceback": [
      "\u001b[0;31m---------------------------------------------------------------------------\u001b[0m",
      "\u001b[0;31mNameError\u001b[0m                                 Traceback (most recent call last)",
      "\u001b[0;32m/var/folders/26/7j4cx7cx2xqfkb3lz02j29m40000gn/T/ipykernel_65585/2238605365.py\u001b[0m in \u001b[0;36m<module>\u001b[0;34m\u001b[0m\n\u001b[1;32m      1\u001b[0m \u001b[0;31m#Plotting the tsne numpy array\u001b[0m\u001b[0;34m\u001b[0m\u001b[0;34m\u001b[0m\u001b[0m\n\u001b[0;32m----> 2\u001b[0;31m \u001b[0mplt\u001b[0m\u001b[0;34m.\u001b[0m\u001b[0mscatter\u001b[0m\u001b[0;34m(\u001b[0m\u001b[0mdf_tsne\u001b[0m\u001b[0;34m[\u001b[0m\u001b[0;34m:\u001b[0m\u001b[0;34m,\u001b[0m\u001b[0;36m0\u001b[0m\u001b[0;34m]\u001b[0m\u001b[0;34m,\u001b[0m\u001b[0mdf_tsne\u001b[0m\u001b[0;34m[\u001b[0m\u001b[0;34m:\u001b[0m\u001b[0;34m,\u001b[0m\u001b[0;36m1\u001b[0m\u001b[0;34m]\u001b[0m\u001b[0;34m,\u001b[0m\u001b[0mc\u001b[0m\u001b[0;34m=\u001b[0m\u001b[0mdanceability\u001b[0m\u001b[0;34m)\u001b[0m\u001b[0;34m\u001b[0m\u001b[0;34m\u001b[0m\u001b[0m\n\u001b[0m",
      "\u001b[0;31mNameError\u001b[0m: name 'danceability' is not defined"
     ]
    }
   ],
   "source": [
    "#Plotting the tsne numpy array\n",
    "plt.scatter(df_tsne[:,0],df_tsne[:,1],c=danceability)"
   ]
  },
  {
   "cell_type": "code",
   "execution_count": 45,
   "id": "f75007a1-f25b-4c6f-bd84-b8ee3dd474f8",
   "metadata": {},
   "outputs": [],
   "source": [
    "# from sklearn.ensemble.forest import RandomForestRegressor\n",
    "\n",
    "# # Can combine step above with this\n",
    "# forest = RandomForestRegressor(random_state=42, max_depth=5, max_features=10) \n",
    "# forest.fit(X,Y)\n",
    "# importances = forest.feature_importances_\n",
    "# indices = np.argsort(importances)[::-1]\n",
    "\n",
    "# # Print the feature rankings\n",
    "# print(\"Playlist ranking:\")\n",
    "  \n",
    "# for f in range(len(importances)):\n",
    "#     print(\"%d. %s %f \" % (f + 1, \n",
    "#             X.columns[f], \n",
    "#             importances[indices[f]]))"
   ]
  },
  {
   "cell_type": "code",
   "execution_count": 55,
   "id": "c5599008-62dd-4485-8766-e5232241367e",
   "metadata": {},
   "outputs": [
    {
     "name": "stdin",
     "output_type": "stream",
     "text": [
      "Please name a song:  Yesterday\n"
     ]
    }
   ],
   "source": [
    "search_track = input(\"Please name a song: \")"
   ]
  },
  {
   "cell_type": "code",
   "execution_count": 56,
   "id": "8e2b25a1-2a34-41bb-bb48-9f083237253b",
   "metadata": {},
   "outputs": [
    {
     "name": "stdin",
     "output_type": "stream",
     "text": [
      "Please name that song's artist:  The Beatles\n"
     ]
    }
   ],
   "source": [
    "search_artist = input(\"Please name that song's artist: \")"
   ]
  },
  {
   "cell_type": "code",
   "execution_count": 57,
   "id": "8521b831-8e25-483a-a601-11d4c3a54f8b",
   "metadata": {},
   "outputs": [],
   "source": [
    "response = requests.get(search_url + '?q=track%3A' + search_track + '%20artist%3A' + search_artist + '&type=track%2Cartist&limit=1', headers=headers).json()"
   ]
  },
  {
   "cell_type": "code",
   "execution_count": 59,
   "id": "eda0b740-a211-4cb6-ad1e-29293666e9ce",
   "metadata": {},
   "outputs": [
    {
     "data": {
      "text/plain": [
       "{'error': {'status': 401, 'message': 'The access token expired'}}"
      ]
     },
     "execution_count": 59,
     "metadata": {},
     "output_type": "execute_result"
    }
   ],
   "source": [
    "response"
   ]
  },
  {
   "cell_type": "code",
   "execution_count": null,
   "id": "b19ce699-960f-4f44-95b6-1b77eeea060c",
   "metadata": {},
   "outputs": [],
   "source": []
  }
 ],
 "metadata": {
  "kernelspec": {
   "display_name": "Python 3 (ipykernel)",
   "language": "python",
   "name": "python3"
  },
  "language_info": {
   "codemirror_mode": {
    "name": "ipython",
    "version": 3
   },
   "file_extension": ".py",
   "mimetype": "text/x-python",
   "name": "python",
   "nbconvert_exporter": "python",
   "pygments_lexer": "ipython3",
   "version": "3.9.7"
  }
 },
 "nbformat": 4,
 "nbformat_minor": 5
}
